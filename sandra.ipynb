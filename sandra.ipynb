{
 "cells": [
  {
   "cell_type": "markdown",
   "id": "2e49f753",
   "metadata": {},
   "source": [
    "# Travel Order Resolver | Bootstrap"
   ]
  },
  {
   "cell_type": "markdown",
   "id": "65264b92",
   "metadata": {},
   "source": [
    "### Package download"
   ]
  },
  {
   "cell_type": "code",
   "execution_count": 50,
   "id": "f3466604",
   "metadata": {},
   "outputs": [
    {
     "name": "stdout",
     "output_type": "stream",
     "text": [
      "Collecting nltk\n",
      "  Downloading nltk-3.6.3-py3-none-any.whl (1.5 MB)\n",
      "Requirement already satisfied: joblib in c:\\users\\s533ia-ej264t\\epitech_project\\t-aia-901\\le code\\t-aia-901_bootstrap\\lib\\site-packages (from nltk) (1.1.0)\n",
      "Collecting tqdm\n",
      "  Downloading tqdm-4.62.3-py2.py3-none-any.whl (76 kB)\n",
      "Collecting click\n",
      "  Downloading click-8.0.1-py3-none-any.whl (97 kB)\n",
      "Collecting regex\n",
      "  Downloading regex-2021.9.30-cp39-cp39-win_amd64.whl (273 kB)\n",
      "Requirement already satisfied: colorama in c:\\users\\s533ia-ej264t\\epitech_project\\t-aia-901\\le code\\t-aia-901_bootstrap\\lib\\site-packages (from click->nltk) (0.4.4)\n",
      "Installing collected packages: tqdm, regex, click, nltk\n",
      "Successfully installed click-8.0.1 nltk-3.6.3 regex-2021.9.30 tqdm-4.62.3\n"
     ]
    }
   ],
   "source": [
    "!pip install nltk"
   ]
  },
  {
   "cell_type": "markdown",
   "id": "b2e16eed",
   "metadata": {},
   "source": [
    "### Imports"
   ]
  },
  {
   "cell_type": "code",
   "execution_count": 51,
   "id": "7c92cd93",
   "metadata": {},
   "outputs": [
    {
     "name": "stdout",
     "output_type": "stream",
     "text": [
      "showing info https://raw.githubusercontent.com/nltk/nltk_data/gh-pages/index.xml\n"
     ]
    },
    {
     "data": {
      "text/plain": [
       "True"
      ]
     },
     "execution_count": 51,
     "metadata": {},
     "output_type": "execute_result"
    }
   ],
   "source": [
    "# import os.path\n",
    "from os import listdir\n",
    "from os.path import isfile, join, basename\n",
    "from sklearn.feature_extraction.text import TfidfVectorizer\n",
    "import nltk\n",
    "nltk.download()"
   ]
  },
  {
   "cell_type": "code",
   "execution_count": 77,
   "id": "07654bd1",
   "metadata": {},
   "outputs": [],
   "source": [
    "from nltk.corpus import stopwords\n",
    "from nltk import word_tokenize, stem\n",
    "from nltk.tokenize import sent_tokenize\n",
    "import re"
   ]
  },
  {
   "cell_type": "markdown",
   "id": "15fffca7",
   "metadata": {},
   "source": [
    "### Global variables"
   ]
  },
  {
   "cell_type": "code",
   "execution_count": 2,
   "id": "218d9c11",
   "metadata": {},
   "outputs": [],
   "source": [
    "path = \"./discours/tous/\"\n",
    "dico = {}\n",
    "\n",
    "filenameTest = \"./discours/tous/Arlette_Laguiller_299.txt\""
   ]
  },
  {
   "cell_type": "markdown",
   "id": "5748d164",
   "metadata": {},
   "source": [
    "### Some tests"
   ]
  },
  {
   "cell_type": "code",
   "execution_count": 3,
   "id": "1d676b8d",
   "metadata": {},
   "outputs": [
    {
     "data": {
      "text/plain": [
       "'Arlette_Laguiller_299.txt'"
      ]
     },
     "execution_count": 3,
     "metadata": {},
     "output_type": "execute_result"
    }
   ],
   "source": [
    "# read a filename with basename from os\n",
    "basename(filenameTest)"
   ]
  },
  {
   "cell_type": "code",
   "execution_count": 4,
   "id": "19e9f318",
   "metadata": {},
   "outputs": [
    {
     "name": "stdout",
     "output_type": "stream",
     "text": [
      "Alain_Madelin_702.txt\n",
      "Arlette_Laguiller_201.txt\n",
      "Arlette_Laguiller_299.txt\n",
      "Arlette_Laguiller_38.txt\n",
      "Arlette_Laguiller_47.txt\n",
      "Arlette_Laguiller_70.txt\n",
      "Arlette_Laguiller_765.txt\n",
      "Arlette_Laguiller_810.txt\n",
      "Arlette_Laguiller_86.txt\n",
      "Arlette_Laguiller_97.txt\n",
      "Bruno_Mégret_466.txt\n",
      "Corinne_Lepage_889.txt\n",
      "Dominique_Voynet_663.txt\n",
      "Eva_Joly_339.txt\n",
      "Eva_Joly_725.txt\n",
      "François_Bayrou_108.txt\n",
      "François_Bayrou_156.txt\n",
      "François_Bayrou_257.txt\n",
      "François_Bayrou_259.txt\n",
      "François_Bayrou_546.txt\n",
      "François_Bayrou_751.txt\n",
      "François_Bayrou_798.txt\n",
      "François_Bayrou_814.txt\n",
      "François_Bayrou_886.txt\n",
      "François_Bayrou_965.txt\n",
      "François_Hollande_188.txt\n",
      "François_Hollande_227.txt\n",
      "François_Hollande_286.txt\n",
      "François_Hollande_402.txt\n",
      "François_Hollande_470.txt\n",
      "François_Hollande_476.txt\n",
      "François_Hollande_709.txt\n",
      "François_Hollande_836.txt\n",
      "François_Hollande_937.txt\n",
      "François_Hollande_951.txt\n",
      "François_Hollande_975.txt\n",
      "Gérard_Schivardi_999.txt\n",
      "Jacques_Chirac_139.txt\n",
      "Jacques_Chirac_375.txt\n",
      "Jacques_Chirac_454.txt\n",
      "Jacques_Chirac_514.txt\n",
      "Jacques_Chirac_60.txt\n",
      "Jacques_Chirac_624.txt\n",
      "Jacques_Chirac_638.txt\n",
      "Jacques_Chirac_758.txt\n",
      "Jean-Luc_Mélenchon_391.txt\n",
      "Jean-Marie_Le_Pen_475.txt\n",
      "Jean-Marie_Le_Pen_684.txt\n",
      "Jean-Marie_Le_Pen_922.txt\n",
      "Jean-Marie_Le_Pen_982.txt\n",
      "Jean-Pierre_Chevènement_504.txt\n",
      "Jean-Pierre_Chevènement_818.txt\n",
      "Jean-Pierre_Chevènement_849.txt\n",
      "José_Bové_963.txt\n",
      "Lionel_Jospin_300.txt\n",
      "Lionel_Jospin_467.txt\n",
      "Lionel_Jospin_497.txt\n",
      "Lionel_Jospin_535.txt\n",
      "Lionel_Jospin_829.txt\n",
      "Lionel_Jospin_858.txt\n",
      "Marie-George_Buffet_194.txt\n",
      "Marine_Le_Pen_553.txt\n",
      "Nathalie_Arthaud_211.txt\n",
      "Nathalie_Arthaud_66.txt\n",
      "Nicolas_Sarkozy_0.txt\n",
      "Nicolas_Sarkozy_144.txt\n",
      "Nicolas_Sarkozy_187.txt\n",
      "Nicolas_Sarkozy_225.txt\n",
      "Nicolas_Sarkozy_402.txt\n",
      "Nicolas_Sarkozy_435.txt\n",
      "Nicolas_Sarkozy_519.txt\n",
      "Nicolas_Sarkozy_531.txt\n",
      "Nicolas_Sarkozy_535.txt\n",
      "Nicolas_Sarkozy_544.txt\n",
      "Nicolas_Sarkozy_555.txt\n",
      "Nicolas_Sarkozy_595.txt\n",
      "Nicolas_Sarkozy_624.txt\n",
      "Nicolas_Sarkozy_679.txt\n",
      "Nicolas_Sarkozy_69.txt\n",
      "Nicolas_Sarkozy_692.txt\n",
      "Nicolas_Sarkozy_701.txt\n",
      "Nicolas_Sarkozy_937.txt\n",
      "Olivier_Besancenot_13.txt\n",
      "Olivier_Besancenot_536.txt\n",
      "Philippe_Poutou_416.txt\n",
      "Robert_Hue_163.txt\n",
      "Robert_Hue_275.txt\n",
      "Robert_Hue_402.txt\n",
      "Robert_Hue_991.txt\n",
      "Ségolène_Royal_324.txt\n",
      "Ségolène_Royal_401.txt\n",
      "Ségolène_Royal_732.txt\n",
      "Ségolène_Royal_781.txt\n",
      "Ségolène_Royal_860.txt\n",
      "Ségolène_Royal_890.txt\n"
     ]
    }
   ],
   "source": [
    "# working on the filenames + print them\n",
    "filenames = [f for f in listdir(path)]\n",
    "\n",
    "for filename in filenames:\n",
    "    print(filename)    \n",
    "    "
   ]
  },
  {
   "cell_type": "code",
   "execution_count": 5,
   "id": "ee42c790",
   "metadata": {},
   "outputs": [],
   "source": [
    "# working on reading a file\n",
    "\n",
    "# open the file\n",
    "file = open(filenameTest, \"r\", encoding='utf8')\n",
    "# readlines to read all the lines and store them in a list\n",
    "lines = file.readlines()\n",
    "# print(file.read(40))\n",
    "# close the file\n",
    "file.close()\n",
    "# print the line list\n",
    "# print(lines)\n",
    "\n",
    "# print line per line\n",
    "# strip() method remove the trailing space by default\n",
    "# for line in lines:\n",
    "#     print(line.strip())"
   ]
  },
  {
   "cell_type": "code",
   "execution_count": 6,
   "id": "c184b362",
   "metadata": {},
   "outputs": [
    {
     "name": "stdout",
     "output_type": "stream",
     "text": [
      "\n",
      "Travailleuses, travailleurs, camarades \n"
     ]
    }
   ],
   "source": [
    "file = open(filenameTest, \"r\", encoding='utf8')\n",
    "print(file.read(40))"
   ]
  },
  {
   "cell_type": "markdown",
   "id": "f6598abc",
   "metadata": {},
   "source": [
    "### Dico"
   ]
  },
  {
   "cell_type": "raw",
   "id": "e9afce1e",
   "metadata": {},
   "source": [
    "1 stocker le nom du fichier\n",
    "2 stocker le texte du fichier\n",
    "3 constituer le dictionnaire"
   ]
  },
  {
   "cell_type": "code",
   "execution_count": 7,
   "id": "bb0f54ec",
   "metadata": {},
   "outputs": [],
   "source": [
    "# length of the dico\n",
    "len(dico)\n",
    "\n",
    "# boucle on the dico keys\n",
    "for cle in dico.keys():\n",
    "    print(cle)"
   ]
  },
  {
   "cell_type": "code",
   "execution_count": 8,
   "id": "b770b931",
   "metadata": {},
   "outputs": [],
   "source": [
    "# dico construction\n",
    "filenames = [f for f in listdir(path)]\n",
    "\n",
    "for filename in filenames:\n",
    "    fileToRead = open(path + filename, \"r\", encoding='utf8')\n",
    "    data = fileToRead.readlines()\n",
    "    fileToRead.close()\n",
    "    \n",
    "#     dictionnaire construction\n",
    "    dico[filename] = data\n",
    "\n",
    "# print(dico)\n",
    "# print(str(dico))"
   ]
  },
  {
   "cell_type": "code",
   "execution_count": 49,
   "id": "8be16fc4",
   "metadata": {},
   "outputs": [
    {
     "name": "stdout",
     "output_type": "stream",
     "text": [
      "{'brown': 3, 'house': 5, 'big': 2, 'street': 10, 'number': 7, 'small': 9, 'bedroom': 1, '12': 0, 'dog': 4, 'likes': 6, 'play': 8}\n",
      "[1.91629073 1.51082562 1.91629073 1.51082562 1.51082562 1.51082562\n",
      " 1.91629073 1.51082562 1.91629073 1.91629073 1.51082562]\n",
      "(1, 11)\n",
      "[[0.         0.         0.43229129 0.34082342 0.         0.68164684\n",
      "  0.         0.34082342 0.         0.         0.34082342]]\n"
     ]
    }
   ],
   "source": [
    "corpus = [\"This is a brown house. This house is big. The street number is 1.\",\n",
    "          \"This is a small house. This house has 1 bedroom. The street number is 12.\",\n",
    "          \"This dog is brown. This dog likes to play.\",\n",
    "          \"The dog is in the bedroom.\"]\n",
    "\n",
    "# Convert a collection of raw documents to a matrix of TF-IDF features.\n",
    "# create the transform\n",
    "# default encoding utf-8\n",
    "vectorizer = TfidfVectorizer(stop_words='english')\n",
    "\n",
    "# tokenize and build vocab\n",
    "# fit_transform = Learn vocabulary and idf, return document-term matrix.\n",
    "vectorizer.fit(corpus)\n",
    "# summarize\n",
    "# to check\n",
    "print(vectorizer.vocabulary_)\n",
    "print(vectorizer.idf_)\n",
    "# encode document\n",
    "vector = vectorizer.transform([corpus[0]])\n",
    "# summarize encoded vector\n",
    "print(vector.shape)\n",
    "print(vector.toarray())"
   ]
  },
  {
   "cell_type": "code",
   "execution_count": 23,
   "id": "f56f5214",
   "metadata": {},
   "outputs": [
    {
     "name": "stdout",
     "output_type": "stream",
     "text": [
      "{'je': 615, 'vous': 1297, 'salue': 1084, 'peuple': 863, 'de': 302, 'france': 500, 'libre': 649, 'fier': 476, 'insoumis': 595, 'et': 438, 'qui': 956, 'veut': 1264, 'la': 630, 'victoire': 1269, 'votre': 1290, 'présence': 932, 'exceptionnelle': 446, 'enthousiasme': 421, 'conquérante': 248, 'mais': 677, 'aussi': 102, 'tolérante': 1212, 'fraternelle': 505, 'me': 693, 'va': 1252, 'droit': 353, 'au': 91, 'coeur': 212, 'merci': 700, 'pour': 889, 'ce': 167, 'bonheur': 148, 'ai': 46, 'pris': 903, 'beaucoup': 130, 'coups': 271, 'pendant': 844, 'cette': 182, 'campagne': 159, 'reçu': 1028, 'tellement': 1194, 'partagé': 826, 'comme': 217, 'soir': 1142, 'que': 950, 'tout': 1219, 'le': 638, 'reste': 1020, 'est': 437, 'oublié': 800, 'suis': 1173, 'avec': 114, 'dans': 300, 'dernière': 309, 'ligne': 654, 'droite': 354, 'dimanche': 325, 'prochain': 907, 'faire': 455, 'gagner': 516, 'car': 164, 'veux': 1266, 'demain': 303, 'simplement': 1129, 'déjà': 375, 'considérable': 253, 'nous': 769, 'voulons': 1295, 'ensemble': 417, 'notre': 767, 'pays': 840, 'un': 1242, 'apaisé': 71, 'réconcilié': 1045, 'lui': 664, 'même': 752, 'surtout': 1178, 'celles': 170, 'ceux': 183, 'en': 408, 'ont': 786, 'moins': 724, 'là': 668, 'leur': 644, 'dis': 329, 'qu': 944, 'ils': 573, 'ne': 756, 'se': 1102, 'découragent': 368, 'pas': 836, 'les': 640, 'prendrons': 897, 'par': 813, 'main': 675, 'vais': 1253, 'dire': 326, 'maintenant': 676, 'quelques': 952, 'mots': 737, 'confidence': 239, 'abord': 21, 'tenu': 1202, 'grâce': 538, 'comment': 219, 'fait': 457, 'il': 572, 'une': 1243, 'petite': 861, 'fille': 477, 'lorraine': 661, 'née': 776, 'dakar': 296, 'père': 942, 'militaire': 709, 'grandi': 533, 'village': 1276, 'des': 310, 'vosges': 1289, 'quatrième': 949, 'famille': 460, 'huit': 563, 'enfants': 412, 'eu': 439, 'suivre': 1174, 'réussite': 1070, 'scolaire': 1100, 'trouve': 1233, 'devant': 316, 'permis': 855, 'rencontre': 1001, 'parfois': 818, 'interrogée': 603, 'fur': 511, 'mesure': 703, 'ces': 179, 'étapes': 1342, 'trébuché': 1234, 'relevée': 990, 'oui': 801, 'chaque': 192, 'fois': 486, 'ferveur': 474, 'démocratique': 381, 'redonné': 980, 'force': 491, 'accomplir': 26, 'avons': 118, 'construire': 254, 'bien': 140, 'avouer': 119, 'si': 1124, 'facile': 454, 'solide': 1147, 'savais': 1093, 'courage': 272, 'du': 356, 'combat': 215, 'politique': 880, 'construit': 258, 'dix': 340, 'mois': 725, 'électorale': 1328, 'mon': 727, 'parce': 814, 'projet': 917, 'on': 785, 'dit': 337, 'pourquoi': 890, 'cela': 168, 'instant': 596, 'où': 806, 'parle': 820, 'noue': 768, 'extraordinaire': 452, 'tournant': 1217, 'vers': 1261, 'vois': 1285, 'comprends': 225, 'sens': 1108, 'aimons': 51, 'ressentent': 1017, 'encore': 410, 'sentiment': 1110, 'voyant': 1298, 'sûre': 1189, 'seront': 1117, 'plus': 878, 'nombreux': 762, 'avoir': 117, 'envie': 430, 'partager': 825, 'merveilleux': 701, 'voudrais': 1291, 'place': 872, 'tous': 1218, 'toutes': 1221, 'personne': 857, 'sera': 1113, 'exclu': 447, 'réunion': 1069, 'formidable': 496, 'signe': 1125, 'espoir': 431, 'sentons': 1111, 'événement': 1349, 'hauteur': 553, 'espérée': 435, 'partie': 831, 'contre': 265, 'autre': 105, 'présidente': 934, 'nom': 760, 'aux': 107, 'artistes': 82, 'sommes': 1148, 'ici': 569, 'entendre': 418, 'styles': 1170, 'générations': 547, 'vos': 1288, 'musiques': 742, 'exaltent': 444, 'nos': 765, 'espoirs': 432, 'calment': 158, 'peines': 843, 'bercent': 135, 'vies': 1275, 'construisent': 256, 'beaux': 132, 'souvenirs': 1164, 'engagement': 413, 'chanter': 189, 'terre': 1204, 'donner': 345, 'ardeur': 78, 'rendre': 1006, 'meilleure': 694, 'art': 79, 'culture': 291, 'sont': 1150, 'langage': 635, 'supérieur': 1175, 'humanité': 567, 'artistique': 83, 'culturelle': 292, 'immense': 577, 'élan': 1325, 'preuve': 900, 'aurez': 101, 'choix': 204, 'entre': 424, 'deux': 314, 'modèles': 721, 'société': 1139, 'rassemblement': 965, 'image': 574, 'modèle': 720, 'propose': 920, 'partage': 824, 'émotion': 1335, 'beauté': 131, 'confondues': 241, 'voilà': 1283, 'vrai': 1300, 'remède': 999, 'inquiétude': 594, 'menace': 695, 'divisions': 339, 'conflits': 240, 'chemin': 196, 'paix': 811, 'fraternité': 506, 'réconcilier': 1043, 'êtes': 1350, 'neuve': 757, 'relève': 992, 'venus': 1259, 'rassemblée': 970, 'fière': 485, 'être': 1351, 'remettre': 995, 'citoyens': 209, 'action': 32, 'souffler': 1155, 'vent': 1258, 'démocratie': 380, 'liberté': 647, 'mobilise': 717, 'ses': 1120, 'talents': 1190, 'libère': 651, 'énergies': 1337, 'crée': 286, 'richesses': 1031, 'répartit': 1057, 'donne': 344, 'goût': 530, 'effort': 397, 'travail': 1225, 'création': 285, 'affirme': 39, 'plu': 876, 'profond': 913, 'ellemême': 400, 'justice': 627, 'sociale': 1136, 'excellence': 445, 'écologique': 1313, 'condition': 234, 'efficacité': 396, 'économique': 1315, 'prospérité': 923, 'sécurité': 1186, 'social': 1135, 'uns': 1250, 'vont': 1287, 'sans': 1086, 'autres': 106, 'nouvel': 772, 'ordre': 794, 'juste': 625, 'message': 702, 'quatre': 948, 'coins': 213, 'territoires': 1206, 'départements': 384, 'outre': 802, 'mer': 699, 'français': 501, 'étranger': 1345, 'ma': 670, 'pensée': 848, 'moment': 726, 'compatriote': 223, 'détenu': 391, 'afghanistan': 41, 'ainsi': 52, 'ingrid': 590, 'betancourt': 139, 'aimerait': 50, 'parmi': 823, 'temps': 1197, 'viendra': 1272, 'chacune': 187, 'chacun': 186, 'porteur': 884, 'mystérieux': 743, 'encouragements': 411, 'millions': 711, 'françaises': 503, 'rassemblent': 966, 'veulent': 1263, 'élever': 1330, 'haut': 551, 'rang': 960, 'histoire': 557, 'invite': 610, 'écrire': 1320, 'nouvelle': 773, 'page': 809, 'mince': 712, 'affaire': 36, 'occupe': 781, 'monde': 728, 'yeux': 1305, 'jamais': 614, 'grande': 532, 'lorsqu': 663, 'elle': 399, 'valeurs': 1255, 'exigeantes': 451, 'belles': 134, 'proclamées': 908, 'révolution': 1073, 'française': 502, 'universelles': 1247, 'parcelle': 815, 'lumière': 665, 'égalité': 1324, 'rassemble': 964, 'aujourd': 97, 'hui': 562, 'allons': 56, 'prendre': 896, 'savons': 1097, 'mondialisation': 730, 'échanges': 1308, 'influences': 589, 'croisées': 281, 'fertilisantes': 473, 'tohu': 1211, 'bohu': 147, 'inéquité': 611, 'malheur': 679, 'crimes': 276, 'masse': 690, 'guerres': 542, 'aurait': 100, 'tentation': 1200, 'éloigner': 1332, 'scène': 1101, 'laisser': 631, 'laisserait': 633, 'éclater': 1311, 'morceaux': 734, 'blocs': 144, 'vie': 1271, 'pensées': 849, 'hostiles': 561, 'unes': 1244, 'non': 763, 'résignerait': 1066, 'disparaître': 336, 'ambassadeurs': 60, 'aspiration': 84, 'monte': 733, 'entier': 422, 'lettres': 643, 'créance': 283, 'redresser': 981, 'mérite': 747, 'formes': 495, 'gouvernement': 529, 'politiques': 881, 'laissera': 632, 'abusée': 22, 'parés': 835, 'plumes': 877, 'rupture': 1038, 'ou': 798, 'ravages': 972, 'nouveauté': 771, 'marqués': 689, 'sceau': 1099, 'échec': 1309, 'amnésie': 63, 'bilans': 142, 'certes': 177, 'maquiller': 686, 'bilan': 141, 'tâche': 1236, 'vergogne': 1260, 'certains': 176, 'réécrivent': 1074, 'captent': 163, 'celle': 169, 'font': 490, 'gadget': 515, 'médiatique': 744, 'brouiller': 153, 'pistes': 870, 'créer': 288, 'confusion': 243, 'esprits': 434, 'alors': 57, 'chers': 199, 'amis': 62, 'rassemblés': 971, '1er': 8, 'mai': 674, 'hasard': 550, 'date': 301, '828': 15, 'historique': 558, 'travailleurs': 1227, 'travailleuses': 1228, 'fête': 514, 'solidarité': 1146, 'demande': 304, 'dignité': 324, 'ouvrier': 803, 'jeunes': 618, 'présents': 933, 'savent': 1094, 'peut': 864, 'rappeler': 962, 'siècle': 1133, 'états': 1344, 'unis': 1246, 'chicago': 200, 'ouvriers': 804, 'grève': 539, 'furent': 512, 'sauvagement': 1091, 'réprimés': 1061, 'tués': 1235, 'balles': 121, 'tard': 1193, 'jugés': 622, 'pendus': 845, 'était': 1341, '1886': 3, 'cinq': 207, 'ans': 68, 'six': 1132, 'gens': 526, 'ville': 1277, 'minière': 714, 'nord': 764, 'lors': 662, 'manifestation': 682, 'cruellement': 282, 'réprimée': 1060, 'fourmies': 498, 'avaient': 109, '16': 2, '20': 9, '1891': 4, 'depuis': 307, 'jour': 619, 'jours': 621, 'initiative': 592, 'deuxième': 315, 'internationale': 602, 'socialiste': 1137, 'salariés': 1083, 'appartenances': 72, 'confessionnelles': 237, 'quand': 945, 'permet': 854, 'travaillent': 1226, 'manifestent': 684, 'reposent': 1011, 'charléty': 194, 'souviennent': 1165, 'oublient': 799, 'raisons': 959, 'lesquelles': 641, 'esprit': 433, 'revanche': 1025, 'devons': 318, 'libertés': 648, 'précédé': 931, 'donné': 348, 'soient': 1140, 'libres': 650, 'puissent': 940, 'manifester': 685, 'revendiquer': 1027, 'respect': 1013, 'dû': 393, 'évident': 1347, 'bande': 122, 'dessinée': 312, 'vaudrait': 1256, 'seraient': 1115, 'importe': 582, 'quoi': 957, 'ferai': 471, 'moi': 723, 'discrimination': 333, 'lèvent': 669, 'tôt': 1239, 'sais': 1079, 'combien': 216, 'nuit': 775, 'infirmières': 588, 'vues': 1303, 'récemment': 1040, 'puis': 938, 'semblant': 1107, 'lever': 646, 'rencontré': 1002, 'débats': 360, 'participatifs': 827, 'rmi': 1035, 'son': 1149, 'fils': 478, 'ait': 53, 'honte': 560, 'matin': 691, 'transports': 1224, 'commun': 221, 'croire': 278, 'défense': 372, 'valeur': 1254, 'permanences': 853, 'faut': 464, 'dont': 349, 'évoquais': 1348, 'mémoire': 745, 'heure': 554, 'battaient': 127, 'journée': 620, 'heures': 555, 'semaine': 1105, 'quarante': 946, 'fallu': 458, '1919': 5, 'droits': 355, 'élémentaires': 1334, 'reconnus': 975, 'époque': 1338, 'avait': 110, 'doute': 350, 'disaient': 330, 'miniers': 713, 'étaient': 1340, 'paresseux': 817, 'voulaient': 1292, 'mêmes': 753, '1936': 6, 'affirmaient': 38, 'congés': 244, 'payés': 841, 'allaient': 54, 'ruiner': 1037, 'galimatias': 519, 'conservateur': 252, 'fondements': 489, 'économiques': 1316, 'été': 1346, 'démenti': 379, 'active': 33, 'réconciliée': 1046, 'rabatte': 958, 'sur': 1176, 'conquête': 249, 'sociaux': 1138, 'oppose': 790, 'humain': 565, 'risque': 1033, 'entrepreneurs': 426, 'réconcilierons': 1044, 'entreprises': 429, 'progrès': 916, 'têtes': 1238, 'cerveau': 178, 'lobes': 658, 'but': 156, 'ultime': 1240, 'profit': 911, 'doit': 342, 'sinon': 1130, 'gain': 518, 'paie': 810, 'toujours': 1216, 'forme': 494, 'servitude': 1119, 'grandir': 534, 'pacte': 808, 'innovent': 593, 'créent': 287, 'richesse': 1030, 'emplois': 405, 'battent': 128, 'croissance': 280, 'soit': 1143, 'rendez': 1004, 'risques': 1034, 'milliers': 710, 'petites': 862, 'moyennes': 740, 'dangers': 299, 'guettent': 543, 'elles': 401, 'grand': 531, 'nombre': 761, 'artisanat': 81, 'quels': 953, 'personnels': 858, 'prennent': 898, 'vivre': 1281, 'prix': 906, 'santé': 1087, 'chefs': 195, 'entreprise': 428, 'sachent': 1078, 'entreprendre': 425, 'serai': 1114, 'leurs': 645, 'côtés': 295, 'bataille': 125, 'concurrence': 233, 'soutiendrai': 1162, 'embauche': 403, 'formation': 493, 'professionnelle': 910, 'améliorent': 64, 'compétitivité': 230, 'versant': 1262, 'salaires': 1081, 'décents': 363, 'rémunèrent': 1053, 'justement': 626, 'compromis': 227, 'avant': 113, 'garde': 522, 'lutte': 666, 'chômage': 205, 'aucun': 93, 'jeune': 617, 'emploi': 404, 'créerai': 289, '500': 12, '000': 0, 'projeter': 918, 'sortir': 1154, 'inactivité': 584, 'abandon': 19, 'succès': 1172, 'moderne': 718, 'exige': 450, 'agilité': 43, 'eh': 398, 'mettrons': 706, 'sécurisera': 1185, 'invention': 609, 'nouvelles': 774, 'sécurités': 1187, 'précarité': 928, 'rendront': 1007, 'performant': 851, 'première': 894, 'parcours': 816, 'toute': 1220, 'voir': 1284, 'femmes': 469, 'pleurs': 875, 'grilles': 536, 'fermées': 472, 'regard': 986, 'désespéré': 387, 'licenciés': 652, 'protection': 924, 'sort': 1151, 'indigne': 586, 'développé': 392, 'philosophent': 866, 'vu': 1302, 'cesserai': 180, 'opposer': 791, 'chômeurs': 206, 'inacceptable': 583, 'accabler': 23, 'personnes': 859, 'privées': 905, 'ardente': 77, 'obligation': 778, 'scandaleux': 1098, 'stigmatiser': 1168, 'mendiants': 697, 'opportunistes': 789, 'ressource': 1018, 'publique': 936, 'sûr': 1188, 'effets': 394, 'aubaine': 92, 'peuvent': 865, 'produire': 909, 'auxquels': 108, 'fin': 479, 'agence': 42, 'nationale': 755, 'réorganisée': 1055, 'performante': 852, 'portera': 883, 'emède': 407, 'défendu': 371, 'assistanat': 85, 'tiens': 1209, 'rien': 1032, 'financière': 482, 'fraudes': 507, 'fiscales': 484, 'riches': 1029, 'redonner': 978, 'artifice': 80, 'discours': 332, 'payer': 839, 'sa': 1077, 'augmenter': 95, 'bas': 124, 'restent': 1021, 'obstinément': 779, 'immobiles': 579, 'seul': 1121, 'cas': 166, 'hommes': 559, 'ailleurs': 49, 'commencent': 218, 'carrière': 165, 'smic': 1134, 'terminent': 1203, 'après': 76, 'chantier': 190, 'prioritaire': 902, 'celui': 171, 'possibilité': 887, 'progresser': 915, 'perspective': 860, 'intéressant': 606, 'bref': 151, 'récompense': 1041, 'motivation': 736, 'construirons': 255, 'dialogue': 321, 'débloquerons': 361, 'pouvoir': 892, 'achat': 29, 'économie': 1314, 'pa': 807, 'besoin': 138, 'brutalité': 155, 'ni': 758, 'choc': 201, 'contraire': 264, 'dangereux': 298, 'déclarer': 366, 'guerre': 541, 'fonction': 487, 'confiance': 238, 'métiers': 751, 'cherchent': 197, 'obéit': 780, 'coup': 270, 'menton': 698, 'champs': 188, 'imaginaires': 575, 'simple': 1128, 'soutien': 1161, 'immédiat': 580, 'récuse': 1047, 'fatalité': 462, 'loi': 659, 'écrite': 1321, 'laquelle': 636, 'devrait': 319, 'traduire': 1222, 'brillants': 152, 'génération': 546, 'économistes': 1317, 'affirment': 40, 'rencontrés': 1003, 'disent': 335, 'attendent': 89, 'désespérément': 388, 'règles': 1039, 'jeu': 616, 'donnerai': 346, 'remotiverons': 998, 'satisfaire': 1089, 'système': 1184, 'stock': 1169, 'options': 793, 'limite': 656, 'bonus': 149, 'retraites': 1023, 'chapeaux': 191, 'organisés': 797, 'feint': 467, 'découvrir': 369, 'derniers': 308, 'vraiment': 1301, 'justifier': 628, '38': 11, 'dirigeants': 328, 'aient': 48, 'touché': 1215, 'total': 1213, '107': 1, 'euros': 442, 'primes': 901, 'départ': 383, '2006': 10, 'pire': 869, '829': 16, 'voyez': 1299, 'peine': 842, 'toucher': 1214, 'partir': 833, 'échoué': 1310, 'repartir': 1009, 'débloquée': 362, 'finir': 483, 'privé': 904, 'finalité': 481, 'plein': 874, 'gagnerons': 517, 'ressources': 1019, 'humaines': 566, 'immenses': 578, 'éducation': 1322, 'garantie': 521, 'redonnerons': 979, 'université': 1248, 'recherche': 973, 'rôle': 1076, 'bataillon': 126, 'élite': 1331, 'remercie': 994, 'mouvement': 739, 'sauvons': 1092, 'compris': 226, 'ambition': 61, 'lance': 634, 'défi': 373, 'relevé': 989, 'moyens': 741, 'emporter': 406, 'actifs': 31, 'sein': 1104, 'europe': 441, 'pouvons': 893, 'réorienter': 1056, 'avenir': 115, 'plan': 873, 'commerce': 220, 'notamment': 766, 'acceptable': 24, 'mise': 716, 'péril': 943, 'surexploitation': 1177, 'parties': 832, 'soutiens': 1163, 'manifestations': 683, 'lieu': 653, 'exemple': 449, 'syndicaux': 1183, 'octroyés': 783, 'union': 1245, 'naissante': 754, 'renaissante': 1000, 'syndicalisme': 1180, 'mondial': 729, 'élevant': 1329, 'niveaux': 759, 'lutterons': 667, 'délocalisations': 378, 'attendant': 88, 'faudra': 463, 'protège': 925, 'efficacement': 395, 'destructions': 313, 'fais': 456, 'serment': 1116, 'confrontés': 242, 'conduite': 236, 'affaires': 37, 'publiques': 937, 'sait': 1080, 'mettre': 705, 'danger': 297, 'civile': 210, 'dressant': 351, 'contenu': 261, 'programme': 914, 'candidat': 161, 'engagée': 414, 'réformer': 1050, 'heurter': 556, 'mettrai': 704, 'méthode': 749, 'connaît': 246, 'participative': 829, 'écouter': 1318, 'agir': 44, 'diversité': 338, 'source': 1158, 'violence': 1278, 'désignerai': 389, 'ennemi': 415, 'territoire': 1205, 'opinion': 787, 'associés': 86, 'réformes': 1051, 'réforme': 1049, 'possible': 888, 'concorde': 231, 'entendu': 420, 'rassemblerai': 968, 'viennent': 1273, 'relèverons': 993, 'candidats': 162, 'gauche': 524, 'antilibérale': 70, 'vaut': 1257, 'mieux': 708, 'profits': 912, 'idéal': 570, 'alter': 58, 'mondialistes': 731, 'électeurs': 1327, 'centre': 173, 'républicains': 1063, 'fera': 470, 'fonctionne': 488, 'état': 1343, 'impartial': 581, 'agit': 45, 'crois': 279, 'bercy': 136, 'opinions': 788, 'débat': 359, 'poser': 885, 'victime': 1267, 'perpétuelle': 856, 'attaquées': 87, 'renoncerai': 1008, 'idées': 571, 'donc': 343, 'beau': 129, 'train': 1223, 'disait': 331, 'faute': 465, '68': 13, 'quelle': 951, 'mouche': 738, 'piqué': 868, 'semblait': 1106, 'pourtant': 891, 'calme': 157, 'autour': 104, 'palais': 812, 'omnisport': 784, 'intérieur': 607, 'voitures': 1286, 'fumantes': 510, 'barricades': 123, 'charges': 193, 'police': 879, 'délitement': 377, 'laxisme': 637, 'moeurs': 722, 'crise': 277, 'autorité': 103, 'machine': 671, 'remonter': 996, 'marche': 687, 'paris': 819, 'juin': 623, '1968': 7, 'souhaite': 1156, 'parvienne': 834, 'cet': 181, 'blocage': 143, 'préciser': 930, 'susciter': 1179, 'révoltes': 1072, 'revendications': 1026, 'grèves': 540, 'bloqué': 145, 'refusait': 985, 'redistribuer': 977, 'trente': 1230, 'glorieuses': 528, 'construites': 259, 'rêve': 1075, 'connaître': 247, 'nouveau': 770, 'anticipant': 69, 'créant': 284, 'convergences': 267, 'intelligentes': 600, 'puisse': 939, 'avancer': 111, 'perdre': 850, 'bloquée': 146, 'dresser': 352, 'mot': 735, 'prend': 895, 'bras': 150, 'corps': 268, 'aller': 55, 'dégâts': 374, 'finalement': 480, 'augmentés': 96, 'syndicats': 1182, 'gestion': 527, 'universités': 1249, 'fut': 513, 'modernisée': 719, 'élargies': 1326, 'eurent': 440, 'accès': 27, 'contraception': 263, 'ivg': 613, 'certaine': 175, 'façon': 466, 'senti': 1109, 'longs': 660, 'colère': 214, 'gronde': 537, 'frustrations': 509, 'incompréhensions': 585, 'compter': 228, 'quartiers': 947, 'délaissés': 376, 'résolu': 1067, 'rapidement': 961, 'brutaliser': 154, 'intelligence': 599, 'seule': 1122, 'proposer': 921, 'entends': 419, 'appeler': 73, 'majorité': 678, 'silencieuse': 1127, 'habileté': 548, 'conseilles': 251, 'ex': 443, 'soixante': 1144, 'huitards': 564, 'entourent': 423, 'redéfiler': 982, 'elysées': 402, 'remontée': 997, 'doc': 341, 'gyneco': 544, 'andré': 66, 'malraux': 680, 'françois': 504, 'mauriac': 692, 'bernard': 137, 'tapie': 1192, 'monsieur': 732, 'sarkozy': 1088, 'général': 545, 'gaulle': 525, 'garder': 523, 'sang': 1085, 'froid': 508, 'soulève': 1157, 'voulait': 1293, 'participation': 828, 'répondu': 1059, 'relise': 991, 'propres': 922, 'analyses': 65, 'situent': 1131, 'reconnaissons': 974, 'altitude': 59, 'passé': 838, 'voulu': 1296, 'répondre': 1058, 'lesquels': 642, 'avez': 116, 'choisir': 203, 'côté': 294, 'demandée': 306, 'familles': 461, 'éduquent': 1323, 'encadrent': 409, 'correctement': 269, 'école': 1312, 'devront': 320, 'respecter': 1014, 'enseignants': 416, 'services': 1118, 'publics': 935, 'retour': 1022, 'rapprocheront': 963, '830': 17, 'savez': 1095, 'réputée': 1065, 'durable': 357, 'devoirs': 317, 'auraient': 99, 'soyons': 1167, 'attentifs': 90, 'déclaré': 367, 'grands': 535, 'leaders': 639, 'thibault': 1207, 'secrétaire': 1103, 'cgt': 185, 'question': 954, 'négocier': 777, 'pistolet': 871, 'tempe': 1196, 'écoutons': 1319, 'chereque': 198, 'dirigeant': 327, 'syndicat': 1181, 'cfdt': 184, 'vient': 1274, 'solennellement': 1145, 'ump': 1241, 'tentative': 1201, 'passage': 837, 'tendons': 1199, 'oreille': 795, 'feu': 475, 'continue': 262, 'couver': 275, 'sous': 1160, 'cendre': 172, 'entrepris': 427, 'refus': 984, 'méprisée': 746, 'ingrédients': 591, 'conduire': 235, 'république': 1064, 'rénovée': 1054, 'positive': 886, 'véritable': 1304, 'désir': 390, 'responsabilité': 1015, 'protéger': 926, 'certain': 174, 'vocabulaire': 1282, 'recule': 976, 'ovationner': 805, 'karcher': 629, 'parlé': 822, 'liquider': 657, 'avancé': 112, 'phrase': 867, 'reformater': 983, 'hautes': 552, 'désapprouvent': 386, 'compatibles': 222, 'usage': 1251, 'tels': 1195, 'appelle': 74, 'comprendre': 224, 'réfléchir': 1048, 'conscience': 250, 'silence': 1126, 'tirer': 1210, 'conséquences': 260, 'rassembler': 967, 'prenons': 899, 'acte': 30, 'fameuse': 459, 'annoncée': 67, 'purement': 941, 'fracture': 499, 'républicaine': 1062, 'décider': 365, 'violences': 1279, 'résulteraient': 1068, 'intérêt': 608, 'sauf': 1090, 'esquiver': 436, 'questions': 955, 'concrètes': 232, 'menant': 696, 'exclusion': 448, 'intimidation': 605, 'reproche': 1012, 'lilian': 655, 'thuram': 1208, 'ressent': 1016, 'victimes': 1268, 'discriminations': 334, 'décrire': 370, 'tant': 1191, 'femme': 468, 'écarts': 1307, 'salariaux': 1082, 'précarités': 929, 'conjugales': 245, 'subissent': 1171, 'rendra': 1005, 'pense': 846, 'particulier': 830, 'seules': 1123, 'adresser': 35, 'occuper': 782, 'élèvent': 1333, 'courageusement': 273, 'difficulté': 322, 'adolescents': 34, 'abandonnées': 20, 'mari': 688, 'face': 453, 'difficultés': 323, 'veuves': 1265, 'pensions': 847, 'réversion': 1071, 'revaloriserai': 1024, 'âgées': 1306, 'demandent': 305, 'accéder': 28, 'projets': 919, 'déremboursement': 385, 'soins': 1141, 'miens': 707, 'forcément': 492, 'travaillé': 1229, 'interrompues': 604, 'choisi': 202, 'métier': 750, 'garanti': 520, 'forte': 497, 'belle': 133, 'dès': 358, 'septembre': 1112, 'organiserai': 796, 'référendum': 1052, 'institutions': 597, 'appelés': 75, '6e': 14, 'parlement': 821, 'irai': 612, 'comptes': 229, 'citoyenne': 208, 'jurys': 624, 'créés': 290, 'cumul': 293, 'mandats': 681, 'interdit': 601, 'institué': 598, 'protégé': 927, 'rejoindre': 988, 'victorieux': 1270, 'triompher': 1231, 'trois': 1232, 'convaincre': 266, 'mériter': 748, 'hésitants': 568, 'indécis': 587, 'cours': 274, 'desquels': 311, 'équipe': 1339, 'démultipliez': 382, 'rues': 1036, 'campagnes': 160, 'donnons': 347, 'magnifiques': 673, 'accompagnent': 25, 'magnifique': 672, 'saviez': 1096, 'soyez': 1166, 'aidés': 47, 'sorte': 1153, 'miracle': 715, 'décevons': 364, 'regarde': 987, 'ayez': 120, 'audace': 94, 'imaginer': 576, 'porter': 882, 'tête': 1237, 'aura': 98, 'replier': 1010, 'sortante': 1152, 'clair': 211, 'réconciliation': 1042, 'harmonie': 549, 'énergie': 1336, 'voulez': 1294, 'souriante': 1159, 'optimiste': 792, 'tend': 1198, 'rassemblons': 969, 'construisons': 257, 'vive': 1280, '831': 18}\n"
     ]
    }
   ],
   "source": [
    "# create the transform\n",
    "vectorizer = TfidfVectorizer()\n",
    "# tokenize and build vocab\n",
    "vectorizer.fit(text)\n",
    "# summarize\n",
    "print(vectorizer.vocabulary_)"
   ]
  },
  {
   "cell_type": "code",
   "execution_count": 24,
   "id": "6320f9a9",
   "metadata": {},
   "outputs": [
    {
     "name": "stdout",
     "output_type": "stream",
     "text": [
      "[5.77912349 5.77912349 5.77912349 ... 5.77912349 4.39282913 4.16968558]\n"
     ]
    }
   ],
   "source": [
    "print(vectorizer.idf_)"
   ]
  },
  {
   "cell_type": "code",
   "execution_count": 25,
   "id": "94e9ee13",
   "metadata": {},
   "outputs": [
    {
     "name": "stdout",
     "output_type": "stream",
     "text": [
      "(1, 1352)\n"
     ]
    }
   ],
   "source": [
    "# encode document\n",
    "vector = vectorizer.transform([corpus[0]])\n",
    "# summarize encoded vector\n",
    "print(vector.shape)"
   ]
  },
  {
   "cell_type": "code",
   "execution_count": 26,
   "id": "2f424e71",
   "metadata": {},
   "outputs": [
    {
     "name": "stdout",
     "output_type": "stream",
     "text": [
      "[[0. 0. 0. ... 0. 0. 0.]]\n"
     ]
    }
   ],
   "source": [
    "print(vector.toarray())"
   ]
  },
  {
   "cell_type": "markdown",
   "id": "1603a8a8",
   "metadata": {},
   "source": [
    "### From raw text to vector"
   ]
  },
  {
   "cell_type": "raw",
   "id": "9ec149f6",
   "metadata": {},
   "source": [
    "stocker que les textes\n",
    "virer les stop words + stemme + virer la ponctuation\n",
    "stemme = racine des mots\n",
    "puis on vectorise"
   ]
  },
  {
   "cell_type": "code",
   "execution_count": 44,
   "id": "be15849a",
   "metadata": {},
   "outputs": [],
   "source": [
    "# liste des textes uniquement\n",
    "for value in dico.values():\n",
    "    text = value"
   ]
  },
  {
   "cell_type": "code",
   "execution_count": 87,
   "id": "530f183f",
   "metadata": {},
   "outputs": [],
   "source": [
    "# remove punctuation\n",
    "# RegexpTokenizer() gave him the regex of character to exclude\n",
    "# here we only keep character or word\n",
    "tokenizer = nltk.RegexpTokenizer(r\"\\w+\")\n",
    "# new_words = tokenizer.tokenize(data)\n",
    "# print(new_words)"
   ]
  },
  {
   "cell_type": "code",
   "execution_count": 101,
   "id": "23f9ad05",
   "metadata": {},
   "outputs": [
    {
     "name": "stdout",
     "output_type": "stream",
     "text": [
      "['Wikipédia', 'est', 'un', 'projet', 'wiki', 'd', 'encyclopédie', 'collective', 'en', 'ligne', 'universelle', 'multilingue', 'et', 'fonctionnant', 'sur', 'le', 'principe', 'du', 'wiki', 'Aimez', 'vous', 'l', 'encyclopédie', 'wikipedia']\n"
     ]
    }
   ],
   "source": [
    "# small test\n",
    "data = u\"\"\"Wikipédia est un projet wiki d’encyclopédie collective en ligne, universelle, \n",
    "        multilingue et fonctionnant sur le principe du wiki. Aimez-vous l'encyclopédie wikipedia ?\"\"\"\n",
    "\n",
    "# removing the punctuation\n",
    "textWithoutPunctuation = tokenizer.tokenize(data)\n",
    "print(textWithoutPunctuation)\n",
    "\n",
    "# setting the french stop words\n",
    "french_stopwords = set(stopwords.words('french'))\n",
    "\n",
    "# lambda function to filter the text and remove the stop words\n",
    "filtre_stopfr =  lambda text: [token for token in text if token.lower() not in french_stopwords]\n",
    "\n",
    "# storage of the words using our lambda function to remove the stop words\n",
    "# word_tokenize : using for word tokenization\n",
    "# sent_tokenize : is for sentence tokenization\n",
    "textWithoutStopWords = filtre_stopfr( word_tokenize(data, language=\"french\") )\n",
    "\n",
    "# print(textWithoutStopWords)"
   ]
  },
  {
   "cell_type": "code",
   "execution_count": 74,
   "id": "88f02d35",
   "metadata": {},
   "outputs": [
    {
     "name": "stdout",
     "output_type": "stream",
     "text": [
      "[('wiki', 2), (',', 2), ('Wikipédia', 1), ('projet', 1), ('’', 1), ('encyclopédie', 1), ('collective', 1), ('ligne', 1), ('universelle', 1), ('multilingue', 1), ('fonctionnant', 1), ('principe', 1), ('.', 1), ('Aimez-vous', 1), (\"l'encyclopédie\", 1), ('wikipedia', 1), ('?', 1)]\n"
     ]
    }
   ],
   "source": [
    "# parenthèse\n",
    "# pour voir les mots les plus communément utilisés\n",
    "fd = nltk.FreqDist(textWithoutStopWords).most_common() \n",
    "print(fd)"
   ]
  },
  {
   "cell_type": "code",
   "execution_count": 82,
   "id": "2c244a16",
   "metadata": {},
   "outputs": [
    {
     "name": "stdout",
     "output_type": "stream",
     "text": [
      "wikipédi\n",
      "projet\n",
      "wik\n",
      "’\n",
      "encycloped\n",
      "collect\n",
      "lign\n",
      ",\n",
      "universel\n",
      ",\n",
      "multilingu\n",
      "fonction\n",
      "princip\n",
      "wik\n",
      ".\n",
      "aimez-vous\n",
      "l'encycloped\n",
      "wikipedi\n",
      "?\n"
     ]
    }
   ],
   "source": [
    "# stemme time\n",
    "example_words = [\"donner\",\"don\",\"donne\",\"donnera\",\"dons\",\"test\"]\n",
    "frenchStemmer = stem.snowball.FrenchStemmer()\n",
    " \n",
    "for w in textWithoutStopWords:\n",
    "    print(frenchStemmer.stem(w))"
   ]
  },
  {
   "cell_type": "code",
   "execution_count": 83,
   "id": "2c15f7b4",
   "metadata": {},
   "outputs": [
    {
     "name": "stdout",
     "output_type": "stream",
     "text": [
      "Wikipédia\n",
      "projet\n",
      "wiki\n",
      "’\n",
      "encyclopédie\n",
      "collective\n",
      "ligne\n",
      ",\n",
      "universelle\n",
      ",\n",
      "multilingue\n",
      "fonctionnant\n",
      "principe\n",
      "wiki\n",
      ".\n",
      "Aimez-vous\n",
      "l'encyclopédie\n",
      "wikipedia\n",
      "?\n"
     ]
    }
   ],
   "source": [
    "# boucler sur le tableau pour stemme chaques mots\n",
    "\n",
    "for word in textWithoutStopWords:\n",
    "    print(word)"
   ]
  },
  {
   "cell_type": "code",
   "execution_count": null,
   "id": "209cd149",
   "metadata": {},
   "outputs": [],
   "source": []
  }
 ],
 "metadata": {
  "kernelspec": {
   "display_name": "Python 3 (ipykernel)",
   "language": "python",
   "name": "python3"
  },
  "language_info": {
   "codemirror_mode": {
    "name": "ipython",
    "version": 3
   },
   "file_extension": ".py",
   "mimetype": "text/x-python",
   "name": "python",
   "nbconvert_exporter": "python",
   "pygments_lexer": "ipython3",
   "version": "3.9.7"
  }
 },
 "nbformat": 4,
 "nbformat_minor": 5
}
